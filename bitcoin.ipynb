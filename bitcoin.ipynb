{
 "cells": [
  {
   "cell_type": "markdown",
   "metadata": {},
   "source": [
    "1.  **timestamp** - A timestamp for the minute covered by the row.\n",
    "2.  **Asset_ID** - An ID code for the cryptoasset.\n",
    "3.  **Count** - The number of trades that took place this minute.\n",
    "4.  **Open** - The USD price at the beginning of the minute.\n",
    "5.  **High** - The highest USD price during the minute.\n",
    "6.  **Low** - The lowest USD price during the minute.\n",
    "7.  **Close** - The USD price at the end of the minute.\n",
    "8.  **Volume** - The number of cryptoasset u units traded during the minute.\n",
    "9.  **VWAP** - The volume-weighted average price for the minute.\n",
    "10. **Target** - 15 minute residualized returns. See the 'Prediction and Evaluation section of this notebook for details of how the target is calculated.\n",
    "11. **Weight** - Weight, defined by the competition hosts [here](https://www.kaggle.com/cstein06/tutorial-to-the-g-research-crypto-competition) (For bitcoin, it is 2.397895)\n",
    "12. **Asset_Name** - Human readable Asset name."
   ]
  },
  {
   "cell_type": "code",
   "execution_count": 23,
   "metadata": {},
   "outputs": [],
   "source": [
    "import pandas as pd\n",
    "import numpy as np\n",
    "import matplotlib.pyplot as plt\n",
    "import seaborn as sns\n",
    "import os\n",
    "import datetime\n",
    "from sklearn.model_selection import train_test_split\n",
    "from sklearn.ensemble import RandomForestRegressor\n",
    "import math"
   ]
  },
  {
   "cell_type": "code",
   "execution_count": 2,
   "metadata": {},
   "outputs": [
    {
     "data": {
      "text/html": [
       "<div>\n",
       "<style scoped>\n",
       "    .dataframe tbody tr th:only-of-type {\n",
       "        vertical-align: middle;\n",
       "    }\n",
       "\n",
       "    .dataframe tbody tr th {\n",
       "        vertical-align: top;\n",
       "    }\n",
       "\n",
       "    .dataframe thead th {\n",
       "        text-align: right;\n",
       "    }\n",
       "</style>\n",
       "<table border=\"1\" class=\"dataframe\">\n",
       "  <thead>\n",
       "    <tr style=\"text-align: right;\">\n",
       "      <th></th>\n",
       "      <th>Unnamed: 0</th>\n",
       "      <th>timestamp</th>\n",
       "      <th>Asset_ID</th>\n",
       "      <th>Asset_Name</th>\n",
       "      <th>Weight</th>\n",
       "      <th>Count</th>\n",
       "      <th>Open</th>\n",
       "      <th>High</th>\n",
       "      <th>Low</th>\n",
       "      <th>Close</th>\n",
       "      <th>Volume</th>\n",
       "      <th>VWAP</th>\n",
       "      <th>Target</th>\n",
       "    </tr>\n",
       "  </thead>\n",
       "  <tbody>\n",
       "    <tr>\n",
       "      <th>0</th>\n",
       "      <td>18935914</td>\n",
       "      <td>1609459260</td>\n",
       "      <td>1</td>\n",
       "      <td>NaN</td>\n",
       "      <td>NaN</td>\n",
       "      <td>4039.0</td>\n",
       "      <td>28985.511250</td>\n",
       "      <td>29086.90</td>\n",
       "      <td>28960.0</td>\n",
       "      <td>29032.387500</td>\n",
       "      <td>163.787036</td>\n",
       "      <td>29017.664870</td>\n",
       "      <td>0.000396</td>\n",
       "    </tr>\n",
       "    <tr>\n",
       "      <th>1</th>\n",
       "      <td>18935928</td>\n",
       "      <td>1609459320</td>\n",
       "      <td>1</td>\n",
       "      <td>NaN</td>\n",
       "      <td>NaN</td>\n",
       "      <td>1969.0</td>\n",
       "      <td>29031.175000</td>\n",
       "      <td>29079.56</td>\n",
       "      <td>28951.5</td>\n",
       "      <td>29002.956734</td>\n",
       "      <td>98.754670</td>\n",
       "      <td>29014.703526</td>\n",
       "      <td>-0.000069</td>\n",
       "    </tr>\n",
       "    <tr>\n",
       "      <th>2</th>\n",
       "      <td>18935942</td>\n",
       "      <td>1609459380</td>\n",
       "      <td>1</td>\n",
       "      <td>NaN</td>\n",
       "      <td>NaN</td>\n",
       "      <td>1689.0</td>\n",
       "      <td>29002.977509</td>\n",
       "      <td>29069.39</td>\n",
       "      <td>28967.8</td>\n",
       "      <td>29005.580000</td>\n",
       "      <td>55.202131</td>\n",
       "      <td>29003.078663</td>\n",
       "      <td>-0.000137</td>\n",
       "    </tr>\n",
       "    <tr>\n",
       "      <th>3</th>\n",
       "      <td>18935956</td>\n",
       "      <td>1609459440</td>\n",
       "      <td>1</td>\n",
       "      <td>NaN</td>\n",
       "      <td>NaN</td>\n",
       "      <td>1146.0</td>\n",
       "      <td>29004.293750</td>\n",
       "      <td>29057.73</td>\n",
       "      <td>28971.8</td>\n",
       "      <td>29000.490000</td>\n",
       "      <td>56.575903</td>\n",
       "      <td>29006.256629</td>\n",
       "      <td>-0.000682</td>\n",
       "    </tr>\n",
       "    <tr>\n",
       "      <th>4</th>\n",
       "      <td>18935970</td>\n",
       "      <td>1609459500</td>\n",
       "      <td>1</td>\n",
       "      <td>NaN</td>\n",
       "      <td>NaN</td>\n",
       "      <td>2088.0</td>\n",
       "      <td>28994.918934</td>\n",
       "      <td>29031.71</td>\n",
       "      <td>28929.3</td>\n",
       "      <td>28962.285818</td>\n",
       "      <td>70.319136</td>\n",
       "      <td>28972.005783</td>\n",
       "      <td>-0.000446</td>\n",
       "    </tr>\n",
       "  </tbody>\n",
       "</table>\n",
       "</div>"
      ],
      "text/plain": [
       "   Unnamed: 0   timestamp  Asset_ID  Asset_Name  Weight   Count          Open  \\\n",
       "0    18935914  1609459260         1         NaN     NaN  4039.0  28985.511250   \n",
       "1    18935928  1609459320         1         NaN     NaN  1969.0  29031.175000   \n",
       "2    18935942  1609459380         1         NaN     NaN  1689.0  29002.977509   \n",
       "3    18935956  1609459440         1         NaN     NaN  1146.0  29004.293750   \n",
       "4    18935970  1609459500         1         NaN     NaN  2088.0  28994.918934   \n",
       "\n",
       "       High      Low         Close      Volume          VWAP    Target  \n",
       "0  29086.90  28960.0  29032.387500  163.787036  29017.664870  0.000396  \n",
       "1  29079.56  28951.5  29002.956734   98.754670  29014.703526 -0.000069  \n",
       "2  29069.39  28967.8  29005.580000   55.202131  29003.078663 -0.000137  \n",
       "3  29057.73  28971.8  29000.490000   56.575903  29006.256629 -0.000682  \n",
       "4  29031.71  28929.3  28962.285818   70.319136  28972.005783 -0.000446  "
      ]
     },
     "execution_count": 2,
     "metadata": {},
     "output_type": "execute_result"
    }
   ],
   "source": [
    "df = pd.read_csv(\"Bitcoin/full_data__1__2021.csv\")\n",
    "df.head()"
   ]
  },
  {
   "cell_type": "code",
   "execution_count": 3,
   "metadata": {},
   "outputs": [
    {
     "data": {
      "text/html": [
       "<div>\n",
       "<style scoped>\n",
       "    .dataframe tbody tr th:only-of-type {\n",
       "        vertical-align: middle;\n",
       "    }\n",
       "\n",
       "    .dataframe tbody tr th {\n",
       "        vertical-align: top;\n",
       "    }\n",
       "\n",
       "    .dataframe thead th {\n",
       "        text-align: right;\n",
       "    }\n",
       "</style>\n",
       "<table border=\"1\" class=\"dataframe\">\n",
       "  <thead>\n",
       "    <tr style=\"text-align: right;\">\n",
       "      <th></th>\n",
       "      <th>Unnamed: 0</th>\n",
       "      <th>timestamp</th>\n",
       "      <th>Asset_ID</th>\n",
       "      <th>Count</th>\n",
       "      <th>Open</th>\n",
       "      <th>High</th>\n",
       "      <th>Low</th>\n",
       "      <th>Close</th>\n",
       "      <th>Volume</th>\n",
       "      <th>VWAP</th>\n",
       "      <th>Target</th>\n",
       "    </tr>\n",
       "  </thead>\n",
       "  <tbody>\n",
       "    <tr>\n",
       "      <th>0</th>\n",
       "      <td>18935914</td>\n",
       "      <td>1609459260</td>\n",
       "      <td>1</td>\n",
       "      <td>4039.0</td>\n",
       "      <td>28985.511250</td>\n",
       "      <td>29086.90</td>\n",
       "      <td>28960.0</td>\n",
       "      <td>29032.387500</td>\n",
       "      <td>163.787036</td>\n",
       "      <td>29017.664870</td>\n",
       "      <td>0.000396</td>\n",
       "    </tr>\n",
       "    <tr>\n",
       "      <th>1</th>\n",
       "      <td>18935928</td>\n",
       "      <td>1609459320</td>\n",
       "      <td>1</td>\n",
       "      <td>1969.0</td>\n",
       "      <td>29031.175000</td>\n",
       "      <td>29079.56</td>\n",
       "      <td>28951.5</td>\n",
       "      <td>29002.956734</td>\n",
       "      <td>98.754670</td>\n",
       "      <td>29014.703526</td>\n",
       "      <td>-0.000069</td>\n",
       "    </tr>\n",
       "    <tr>\n",
       "      <th>2</th>\n",
       "      <td>18935942</td>\n",
       "      <td>1609459380</td>\n",
       "      <td>1</td>\n",
       "      <td>1689.0</td>\n",
       "      <td>29002.977509</td>\n",
       "      <td>29069.39</td>\n",
       "      <td>28967.8</td>\n",
       "      <td>29005.580000</td>\n",
       "      <td>55.202131</td>\n",
       "      <td>29003.078663</td>\n",
       "      <td>-0.000137</td>\n",
       "    </tr>\n",
       "    <tr>\n",
       "      <th>3</th>\n",
       "      <td>18935956</td>\n",
       "      <td>1609459440</td>\n",
       "      <td>1</td>\n",
       "      <td>1146.0</td>\n",
       "      <td>29004.293750</td>\n",
       "      <td>29057.73</td>\n",
       "      <td>28971.8</td>\n",
       "      <td>29000.490000</td>\n",
       "      <td>56.575903</td>\n",
       "      <td>29006.256629</td>\n",
       "      <td>-0.000682</td>\n",
       "    </tr>\n",
       "    <tr>\n",
       "      <th>4</th>\n",
       "      <td>18935970</td>\n",
       "      <td>1609459500</td>\n",
       "      <td>1</td>\n",
       "      <td>2088.0</td>\n",
       "      <td>28994.918934</td>\n",
       "      <td>29031.71</td>\n",
       "      <td>28929.3</td>\n",
       "      <td>28962.285818</td>\n",
       "      <td>70.319136</td>\n",
       "      <td>28972.005783</td>\n",
       "      <td>-0.000446</td>\n",
       "    </tr>\n",
       "  </tbody>\n",
       "</table>\n",
       "</div>"
      ],
      "text/plain": [
       "   Unnamed: 0   timestamp  Asset_ID   Count          Open      High      Low  \\\n",
       "0    18935914  1609459260         1  4039.0  28985.511250  29086.90  28960.0   \n",
       "1    18935928  1609459320         1  1969.0  29031.175000  29079.56  28951.5   \n",
       "2    18935942  1609459380         1  1689.0  29002.977509  29069.39  28967.8   \n",
       "3    18935956  1609459440         1  1146.0  29004.293750  29057.73  28971.8   \n",
       "4    18935970  1609459500         1  2088.0  28994.918934  29031.71  28929.3   \n",
       "\n",
       "          Close      Volume          VWAP    Target  \n",
       "0  29032.387500  163.787036  29017.664870  0.000396  \n",
       "1  29002.956734   98.754670  29014.703526 -0.000069  \n",
       "2  29005.580000   55.202131  29003.078663 -0.000137  \n",
       "3  29000.490000   56.575903  29006.256629 -0.000682  \n",
       "4  28962.285818   70.319136  28972.005783 -0.000446  "
      ]
     },
     "execution_count": 3,
     "metadata": {},
     "output_type": "execute_result"
    }
   ],
   "source": [
    "df = df.dropna(axis=1, how=\"all\")\n",
    "df.head()"
   ]
  },
  {
   "cell_type": "code",
   "execution_count": 4,
   "metadata": {},
   "outputs": [
    {
     "data": {
      "text/plain": [
       "525570"
      ]
     },
     "execution_count": 4,
     "metadata": {},
     "output_type": "execute_result"
    }
   ],
   "source": [
    "len(df)"
   ]
  },
  {
   "cell_type": "code",
   "execution_count": 5,
   "metadata": {},
   "outputs": [
    {
     "data": {
      "text/plain": [
       "[<matplotlib.lines.Line2D at 0x1f670421400>]"
      ]
     },
     "execution_count": 5,
     "metadata": {},
     "output_type": "execute_result"
    },
    {
     "data": {
      "image/png": "[encoded data removed]",
      "text/plain": [
       "<Figure size 1440x360 with 2 Axes>"
      ]
     },
     "metadata": {
      "needs_background": "light"
     },
     "output_type": "display_data"
    }
   ],
   "source": [
    "fig, (ax1, ax2) = plt.subplots(nrows=1, ncols=2, figsize=(20, 5))\n",
    "\n",
    "ax1.scatter(df[\"timestamp\"], df[\"Open\"])\n",
    "ax2.plot(df[\"timestamp\"], df[\"Open\"])"
   ]
  },
  {
   "cell_type": "code",
   "execution_count": 6,
   "metadata": {},
   "outputs": [
    {
     "data": {
      "text/plain": [
       "[<matplotlib.lines.Line2D at 0x1f674f33c70>]"
      ]
     },
     "execution_count": 6,
     "metadata": {},
     "output_type": "execute_result"
    },
    {
     "data": {
      "image/png": "[encoded data removed]",
      "text/plain": [
       "<Figure size 432x288 with 1 Axes>"
      ]
     },
     "metadata": {
      "needs_background": "light"
     },
     "output_type": "display_data"
    }
   ],
   "source": [
    "plt.plot(df[\"timestamp\"], df[\"Volume\"])"
   ]
  },
  {
   "cell_type": "code",
   "execution_count": 7,
   "metadata": {},
   "outputs": [
    {
     "data": {
      "text/plain": [
       "['2021-01-01 00:01:00',\n",
       " '2021-01-01 00:02:00',\n",
       " '2021-01-01 00:03:00',\n",
       " '2021-01-01 00:04:00',\n",
       " '2021-01-01 00:05:00']"
      ]
     },
     "execution_count": 7,
     "metadata": {},
     "output_type": "execute_result"
    }
   ],
   "source": [
    "normalTime = []\n",
    "for t in df['timestamp']:\n",
    "    normalTime.append(datetime.datetime.utcfromtimestamp(t).strftime('%Y-%m-%d %H:%M:%S')) \n",
    "\n",
    "normalTime[:5]"
   ]
  },
  {
   "cell_type": "code",
   "execution_count": 8,
   "metadata": {},
   "outputs": [],
   "source": [
    "df[\"Normal Time\"] = normalTime"
   ]
  },
  {
   "cell_type": "code",
   "execution_count": 9,
   "metadata": {},
   "outputs": [],
   "source": [
    "def timeReturn(t):\n",
    "    return datetime.datetime.utcfromtimestamp(t).strftime('%Y-%m-%d %H:%M:%S')"
   ]
  },
  {
   "cell_type": "code",
   "execution_count": 10,
   "metadata": {},
   "outputs": [],
   "source": [
    "X = df[\"timestamp\"][:1439]\n",
    "y1 = df[\"Open\"][:1439]\n",
    "y2 = df[\"Close\"][:1439]\n",
    "t = df[\"Normal Time\"][:1439]"
   ]
  },
  {
   "cell_type": "code",
   "execution_count": 13,
   "metadata": {},
   "outputs": [
    {
     "name": "stderr",
     "output_type": "stream",
     "text": [
      "<ipython-input-13-77de04bafd4a>:11: UserWarning: FixedFormatter should only be used together with FixedLocator\n",
      "  ax.set_xticklabels(newXL)\n"
     ]
    },
    {
     "data": {
      "image/png": "[encoded data removed]",
      "text/plain": [
       "<Figure size 1080x360 with 2 Axes>"
      ]
     },
     "metadata": {
      "needs_background": "light"
     },
     "output_type": "display_data"
    },
    {
     "data": {
      "text/plain": [
       "<Figure size 432x288 with 0 Axes>"
      ]
     },
     "metadata": {},
     "output_type": "display_data"
    }
   ],
   "source": [
    "fig, ax = plt.subplots(figsize=(15, 5))\n",
    "\n",
    "z1 = np.polyfit(X, y1, 1)\n",
    "p1 = np.poly1d(z1)\n",
    "ax.plot(X, p1(X), 'r--')\n",
    "l1 = ax.plot(X, y1, color=\"red\", label=\"Open\")\n",
    "ax.set_xlabel(\"Time\")\n",
    "ax.set_ylabel(\"Open\")\n",
    "xL = ax.get_xticks().tolist()\n",
    "newXL = [timeReturn(t) for t in xL]\n",
    "ax.set_xticklabels(newXL)\n",
    "\n",
    "z2 = np.polyfit(X, y2, 1)\n",
    "p2 = np.poly1d(z2)\n",
    "ax2 = ax.twinx()\n",
    "ax2.plot(X, p2(X), 'r--')\n",
    "l2 = ax2.plot(X, y2, color=\"green\", label=\"Close\")\n",
    "ax2.set_ylabel(\"Close\")\n",
    "\n",
    "l = l1+l2\n",
    "lb = [line.get_label() for line in l]\n",
    "ax.legend(l, lb, loc=0)\n",
    "#ax2.legend(loc=0)\n",
    "\n",
    "plt.tight_layout()\n",
    "plt.show()\n",
    "plt.savefig(\"2021.png\")"
   ]
  },
  {
   "cell_type": "code",
   "execution_count": 31,
   "metadata": {},
   "outputs": [
    {
     "data": {
      "text/plain": [
       "('2021-01-01 01:36:40', 1609465260, '2021-01-02 00:00:00')"
      ]
     },
     "execution_count": 31,
     "metadata": {},
     "output_type": "execute_result"
    }
   ],
   "source": [
    "timeReturn(1609465000), df[\"timestamp\"][100], normalTime[1439]"
   ]
  },
  {
   "cell_type": "code",
   "execution_count": 32,
   "metadata": {},
   "outputs": [
    {
     "data": {
      "text/plain": [
       "(array([5.02045e+05, 1.77140e+04, 3.57000e+03, 1.12700e+03, 5.03000e+02,\n",
       "        2.41000e+02, 1.48000e+02, 7.10000e+01, 4.90000e+01, 3.10000e+01,\n",
       "        2.10000e+01, 1.30000e+01, 1.20000e+01, 1.00000e+01, 8.00000e+00,\n",
       "        1.00000e+00, 3.00000e+00, 1.00000e+00, 0.00000e+00, 2.00000e+00]),\n",
       " array([5.00000000e-04, 2.87938409e+02, 5.75876317e+02, 8.63814226e+02,\n",
       "        1.15175213e+03, 1.43969004e+03, 1.72762795e+03, 2.01556586e+03,\n",
       "        2.30350377e+03, 2.59144168e+03, 2.87937959e+03, 3.16731749e+03,\n",
       "        3.45525540e+03, 3.74319331e+03, 4.03113122e+03, 4.31906913e+03,\n",
       "        4.60700704e+03, 4.89494495e+03, 5.18288285e+03, 5.47082076e+03,\n",
       "        5.75875867e+03]),\n",
       " <BarContainer object of 20 artists>)"
      ]
     },
     "execution_count": 32,
     "metadata": {},
     "output_type": "execute_result"
    },
    {
     "data": {
      "image/png": "[encoded data removed]",
      "text/plain": [
       "<Figure size 432x288 with 1 Axes>"
      ]
     },
     "metadata": {
      "needs_background": "light"
     },
     "output_type": "display_data"
    }
   ],
   "source": [
    "plt.hist(df[\"Volume\"], bins=20)"
   ]
  },
  {
   "cell_type": "code",
   "execution_count": 33,
   "metadata": {},
   "outputs": [
    {
     "data": {
      "text/plain": [
       "(0.000941803231685946, 0.0009371809681121729)"
      ]
     },
     "execution_count": 33,
     "metadata": {},
     "output_type": "execute_result"
    }
   ],
   "source": [
    "z1[0], z2[0] # Slopes of open and close trend lines"
   ]
  },
  {
   "cell_type": "code",
   "execution_count": 34,
   "metadata": {},
   "outputs": [
    {
     "data": {
      "text/html": [
       "<div>\n",
       "<style scoped>\n",
       "    .dataframe tbody tr th:only-of-type {\n",
       "        vertical-align: middle;\n",
       "    }\n",
       "\n",
       "    .dataframe tbody tr th {\n",
       "        vertical-align: top;\n",
       "    }\n",
       "\n",
       "    .dataframe thead th {\n",
       "        text-align: right;\n",
       "    }\n",
       "</style>\n",
       "<table border=\"1\" class=\"dataframe\">\n",
       "  <thead>\n",
       "    <tr style=\"text-align: right;\">\n",
       "      <th></th>\n",
       "      <th>Unnamed: 0</th>\n",
       "      <th>timestamp</th>\n",
       "      <th>Asset_ID</th>\n",
       "      <th>Count</th>\n",
       "      <th>Open</th>\n",
       "      <th>High</th>\n",
       "      <th>Low</th>\n",
       "      <th>Close</th>\n",
       "      <th>Volume</th>\n",
       "      <th>VWAP</th>\n",
       "      <th>Target</th>\n",
       "      <th>Normal Time</th>\n",
       "    </tr>\n",
       "  </thead>\n",
       "  <tbody>\n",
       "    <tr>\n",
       "      <th>0</th>\n",
       "      <td>18935914</td>\n",
       "      <td>1609459260</td>\n",
       "      <td>1</td>\n",
       "      <td>4039.0</td>\n",
       "      <td>28985.511250</td>\n",
       "      <td>29086.90</td>\n",
       "      <td>28960.0</td>\n",
       "      <td>29032.387500</td>\n",
       "      <td>163.787036</td>\n",
       "      <td>29017.664870</td>\n",
       "      <td>0.000396</td>\n",
       "      <td>2021-01-01 00:01:00</td>\n",
       "    </tr>\n",
       "    <tr>\n",
       "      <th>1</th>\n",
       "      <td>18935928</td>\n",
       "      <td>1609459320</td>\n",
       "      <td>1</td>\n",
       "      <td>1969.0</td>\n",
       "      <td>29031.175000</td>\n",
       "      <td>29079.56</td>\n",
       "      <td>28951.5</td>\n",
       "      <td>29002.956734</td>\n",
       "      <td>98.754670</td>\n",
       "      <td>29014.703526</td>\n",
       "      <td>-0.000069</td>\n",
       "      <td>2021-01-01 00:02:00</td>\n",
       "    </tr>\n",
       "    <tr>\n",
       "      <th>2</th>\n",
       "      <td>18935942</td>\n",
       "      <td>1609459380</td>\n",
       "      <td>1</td>\n",
       "      <td>1689.0</td>\n",
       "      <td>29002.977509</td>\n",
       "      <td>29069.39</td>\n",
       "      <td>28967.8</td>\n",
       "      <td>29005.580000</td>\n",
       "      <td>55.202131</td>\n",
       "      <td>29003.078663</td>\n",
       "      <td>-0.000137</td>\n",
       "      <td>2021-01-01 00:03:00</td>\n",
       "    </tr>\n",
       "    <tr>\n",
       "      <th>3</th>\n",
       "      <td>18935956</td>\n",
       "      <td>1609459440</td>\n",
       "      <td>1</td>\n",
       "      <td>1146.0</td>\n",
       "      <td>29004.293750</td>\n",
       "      <td>29057.73</td>\n",
       "      <td>28971.8</td>\n",
       "      <td>29000.490000</td>\n",
       "      <td>56.575903</td>\n",
       "      <td>29006.256629</td>\n",
       "      <td>-0.000682</td>\n",
       "      <td>2021-01-01 00:04:00</td>\n",
       "    </tr>\n",
       "    <tr>\n",
       "      <th>4</th>\n",
       "      <td>18935970</td>\n",
       "      <td>1609459500</td>\n",
       "      <td>1</td>\n",
       "      <td>2088.0</td>\n",
       "      <td>28994.918934</td>\n",
       "      <td>29031.71</td>\n",
       "      <td>28929.3</td>\n",
       "      <td>28962.285818</td>\n",
       "      <td>70.319136</td>\n",
       "      <td>28972.005783</td>\n",
       "      <td>-0.000446</td>\n",
       "      <td>2021-01-01 00:05:00</td>\n",
       "    </tr>\n",
       "  </tbody>\n",
       "</table>\n",
       "</div>"
      ],
      "text/plain": [
       "   Unnamed: 0   timestamp  Asset_ID   Count          Open      High      Low  \\\n",
       "0    18935914  1609459260         1  4039.0  28985.511250  29086.90  28960.0   \n",
       "1    18935928  1609459320         1  1969.0  29031.175000  29079.56  28951.5   \n",
       "2    18935942  1609459380         1  1689.0  29002.977509  29069.39  28967.8   \n",
       "3    18935956  1609459440         1  1146.0  29004.293750  29057.73  28971.8   \n",
       "4    18935970  1609459500         1  2088.0  28994.918934  29031.71  28929.3   \n",
       "\n",
       "          Close      Volume          VWAP    Target          Normal Time  \n",
       "0  29032.387500  163.787036  29017.664870  0.000396  2021-01-01 00:01:00  \n",
       "1  29002.956734   98.754670  29014.703526 -0.000069  2021-01-01 00:02:00  \n",
       "2  29005.580000   55.202131  29003.078663 -0.000137  2021-01-01 00:03:00  \n",
       "3  29000.490000   56.575903  29006.256629 -0.000682  2021-01-01 00:04:00  \n",
       "4  28962.285818   70.319136  28972.005783 -0.000446  2021-01-01 00:05:00  "
      ]
     },
     "execution_count": 34,
     "metadata": {},
     "output_type": "execute_result"
    }
   ],
   "source": [
    "df.head()"
   ]
  },
  {
   "cell_type": "code",
   "execution_count": 35,
   "metadata": {},
   "outputs": [
    {
     "data": {
      "text/plain": [
       "[521251]"
      ]
     },
     "execution_count": 35,
     "metadata": {},
     "output_type": "execute_result"
    }
   ],
   "source": [
    "df.index[df[\"Normal Time\"]=='2021-10-23 00:01:00'].tolist() # For data on a specific day"
   ]
  },
  {
   "cell_type": "code",
   "execution_count": 36,
   "metadata": {},
   "outputs": [
    {
     "data": {
      "text/html": [
       "<div>\n",
       "<style scoped>\n",
       "    .dataframe tbody tr th:only-of-type {\n",
       "        vertical-align: middle;\n",
       "    }\n",
       "\n",
       "    .dataframe tbody tr th {\n",
       "        vertical-align: top;\n",
       "    }\n",
       "\n",
       "    .dataframe thead th {\n",
       "        text-align: right;\n",
       "    }\n",
       "</style>\n",
       "<table border=\"1\" class=\"dataframe\">\n",
       "  <thead>\n",
       "    <tr style=\"text-align: right;\">\n",
       "      <th></th>\n",
       "      <th>timestamp</th>\n",
       "      <th>Asset_ID</th>\n",
       "      <th>Count</th>\n",
       "      <th>Open</th>\n",
       "      <th>High</th>\n",
       "      <th>Low</th>\n",
       "      <th>Close</th>\n",
       "      <th>Volume</th>\n",
       "      <th>VWAP</th>\n",
       "      <th>Target</th>\n",
       "      <th>Normal Time</th>\n",
       "    </tr>\n",
       "  </thead>\n",
       "  <tbody>\n",
       "    <tr>\n",
       "      <th>0</th>\n",
       "      <td>1609459260</td>\n",
       "      <td>1</td>\n",
       "      <td>4039.0</td>\n",
       "      <td>28985.511250</td>\n",
       "      <td>29086.90</td>\n",
       "      <td>28960.0</td>\n",
       "      <td>29032.387500</td>\n",
       "      <td>163.787036</td>\n",
       "      <td>29017.664870</td>\n",
       "      <td>0.000396</td>\n",
       "      <td>2021-01-01 00:01:00</td>\n",
       "    </tr>\n",
       "    <tr>\n",
       "      <th>1</th>\n",
       "      <td>1609459320</td>\n",
       "      <td>1</td>\n",
       "      <td>1969.0</td>\n",
       "      <td>29031.175000</td>\n",
       "      <td>29079.56</td>\n",
       "      <td>28951.5</td>\n",
       "      <td>29002.956734</td>\n",
       "      <td>98.754670</td>\n",
       "      <td>29014.703526</td>\n",
       "      <td>-0.000069</td>\n",
       "      <td>2021-01-01 00:02:00</td>\n",
       "    </tr>\n",
       "    <tr>\n",
       "      <th>2</th>\n",
       "      <td>1609459380</td>\n",
       "      <td>1</td>\n",
       "      <td>1689.0</td>\n",
       "      <td>29002.977509</td>\n",
       "      <td>29069.39</td>\n",
       "      <td>28967.8</td>\n",
       "      <td>29005.580000</td>\n",
       "      <td>55.202131</td>\n",
       "      <td>29003.078663</td>\n",
       "      <td>-0.000137</td>\n",
       "      <td>2021-01-01 00:03:00</td>\n",
       "    </tr>\n",
       "    <tr>\n",
       "      <th>3</th>\n",
       "      <td>1609459440</td>\n",
       "      <td>1</td>\n",
       "      <td>1146.0</td>\n",
       "      <td>29004.293750</td>\n",
       "      <td>29057.73</td>\n",
       "      <td>28971.8</td>\n",
       "      <td>29000.490000</td>\n",
       "      <td>56.575903</td>\n",
       "      <td>29006.256629</td>\n",
       "      <td>-0.000682</td>\n",
       "      <td>2021-01-01 00:04:00</td>\n",
       "    </tr>\n",
       "    <tr>\n",
       "      <th>4</th>\n",
       "      <td>1609459500</td>\n",
       "      <td>1</td>\n",
       "      <td>2088.0</td>\n",
       "      <td>28994.918934</td>\n",
       "      <td>29031.71</td>\n",
       "      <td>28929.3</td>\n",
       "      <td>28962.285818</td>\n",
       "      <td>70.319136</td>\n",
       "      <td>28972.005783</td>\n",
       "      <td>-0.000446</td>\n",
       "      <td>2021-01-01 00:05:00</td>\n",
       "    </tr>\n",
       "  </tbody>\n",
       "</table>\n",
       "</div>"
      ],
      "text/plain": [
       "    timestamp  Asset_ID   Count          Open      High      Low  \\\n",
       "0  1609459260         1  4039.0  28985.511250  29086.90  28960.0   \n",
       "1  1609459320         1  1969.0  29031.175000  29079.56  28951.5   \n",
       "2  1609459380         1  1689.0  29002.977509  29069.39  28967.8   \n",
       "3  1609459440         1  1146.0  29004.293750  29057.73  28971.8   \n",
       "4  1609459500         1  2088.0  28994.918934  29031.71  28929.3   \n",
       "\n",
       "          Close      Volume          VWAP    Target          Normal Time  \n",
       "0  29032.387500  163.787036  29017.664870  0.000396  2021-01-01 00:01:00  \n",
       "1  29002.956734   98.754670  29014.703526 -0.000069  2021-01-01 00:02:00  \n",
       "2  29005.580000   55.202131  29003.078663 -0.000137  2021-01-01 00:03:00  \n",
       "3  29000.490000   56.575903  29006.256629 -0.000682  2021-01-01 00:04:00  \n",
       "4  28962.285818   70.319136  28972.005783 -0.000446  2021-01-01 00:05:00  "
      ]
     },
     "execution_count": 36,
     "metadata": {},
     "output_type": "execute_result"
    }
   ],
   "source": [
    "df = df.drop(['Unnamed: 0'], axis=1)\n",
    "df.head()"
   ]
  },
  {
   "cell_type": "code",
   "execution_count": 25,
   "metadata": {},
   "outputs": [
    {
     "data": {
      "text/plain": [
       "1643892965"
      ]
     },
     "execution_count": 25,
     "metadata": {},
     "output_type": "execute_result"
    }
   ],
   "source": [
    "def getCurrentEpochTime():\n",
    "    normalTime = datetime.datetime.now().timestamp()\n",
    "    return math.floor(normalTime)\n",
    "\n",
    "getCurrentEpochTime()"
   ]
  },
  {
   "cell_type": "code",
   "execution_count": 26,
   "metadata": {},
   "outputs": [
    {
     "data": {
      "text/plain": [
       "47368.8807621754"
      ]
     },
     "execution_count": 26,
     "metadata": {},
     "output_type": "execute_result"
    }
   ],
   "source": [
    "np.mean(df[\"Open\"])"
   ]
  },
  {
   "cell_type": "code",
   "execution_count": 122,
   "metadata": {},
   "outputs": [],
   "source": [
    "weight = 0.95"
   ]
  },
  {
   "cell_type": "code",
   "execution_count": 123,
   "metadata": {},
   "outputs": [
    {
     "data": {
      "text/plain": [
       "[29948.060288108773,\n",
       " 29050.23164812169,\n",
       " 29006.590644906086,\n",
       " 28995.502519569054,\n",
       " 28963.26977788608,\n",
       " 28964.704488894302,\n",
       " 28959.397867301854,\n",
       " 28923.338411237237,\n",
       " 28888.111545561864]"
      ]
     },
     "execution_count": 123,
     "metadata": {},
     "output_type": "execute_result"
    }
   ],
   "source": [
    "openForecast = [np.mean(df[\"Open\"])]\n",
    "\n",
    "for o in df[\"Open\"][1:]:\n",
    "    f = (float) (weight*o + (1-weight)*openForecast[-1])\n",
    "    openForecast.append(f);\n",
    "\n",
    "openForecast[1:10]    "
   ]
  },
  {
   "cell_type": "code",
   "execution_count": 124,
   "metadata": {},
   "outputs": [
    {
     "name": "stdout",
     "output_type": "stream",
     "text": [
      "29031.175\n",
      "29002.977509175\n",
      "29004.29375\n",
      "28994.918934025\n",
      "28961.5733177975\n",
      "28964.78\n",
      "28959.118571428568\n",
      "28921.44054512857\n",
      "28886.2575\n"
     ]
    }
   ],
   "source": [
    "for o in df[\"Open\"][1:10]:\n",
    "    print(o)"
   ]
  },
  {
   "cell_type": "code",
   "execution_count": 125,
   "metadata": {},
   "outputs": [
    {
     "data": {
      "text/plain": [
       "(525570, 525570)"
      ]
     },
     "execution_count": 125,
     "metadata": {},
     "output_type": "execute_result"
    }
   ],
   "source": [
    "len(openForecast), len(df[\"Open\"])"
   ]
  },
  {
   "cell_type": "code",
   "execution_count": 126,
   "metadata": {},
   "outputs": [
    {
     "data": {
      "text/plain": [
       "0   -18383.369512\n",
       "1     -916.885288\n",
       "2      -47.254139\n",
       "3       -2.296895\n",
       "4       -0.583586\n",
       "5       -1.696460\n",
       "6        0.075511\n",
       "7       -0.279296\n",
       "8       -1.897866\n",
       "9       -1.854046\n",
       "Name: Open, dtype: float64"
      ]
     },
     "execution_count": 126,
     "metadata": {},
     "output_type": "execute_result"
    }
   ],
   "source": [
    "diff = df[\"Open\"]-openForecast\n",
    "diff[:10]"
   ]
  },
  {
   "cell_type": "code",
   "execution_count": 127,
   "metadata": {},
   "outputs": [
    {
     "data": {
      "text/plain": [
       "0    3.379483e+08\n",
       "1    8.406786e+05\n",
       "2    2.232954e+03\n",
       "3    5.275726e+00\n",
       "4    3.405721e-01\n",
       "5    2.877977e+00\n",
       "6    5.701927e-03\n",
       "7    7.800618e-02\n",
       "8    3.601896e+00\n",
       "9    3.437485e+00\n",
       "Name: Open, dtype: float64"
      ]
     },
     "execution_count": 127,
     "metadata": {},
     "output_type": "execute_result"
    }
   ],
   "source": [
    "diff2 = np.square(diff)\n",
    "diff2[:10]"
   ]
  },
  {
   "cell_type": "code",
   "execution_count": 128,
   "metadata": {},
   "outputs": [
    {
     "data": {
      "text/plain": [
       "68.17781615163399"
      ]
     },
     "execution_count": 128,
     "metadata": {},
     "output_type": "execute_result"
    }
   ],
   "source": [
    "sumOpen = 0\n",
    "\n",
    "for num in diff2[1:]:\n",
    "    sumOpen += num\n",
    "\n",
    "sumOpen/(len(diff2)-1)"
   ]
  },
  {
   "cell_type": "code",
   "execution_count": 129,
   "metadata": {},
   "outputs": [
    {
     "data": {
      "text/plain": [
       "57158.21294812758"
      ]
     },
     "execution_count": 129,
     "metadata": {},
     "output_type": "execute_result"
    }
   ],
   "source": [
    "currOpenPredicted = weight*list(df[\"Open\"])[-1] + (1-weight)*openForecast[-1]\n",
    "#openForecast.append(currOpenPredicted)\n",
    "currOpenPredicted "
   ]
  },
  {
   "cell_type": "code",
   "execution_count": 130,
   "metadata": {},
   "outputs": [
    {
     "data": {
      "text/html": [
       "<div>\n",
       "<style scoped>\n",
       "    .dataframe tbody tr th:only-of-type {\n",
       "        vertical-align: middle;\n",
       "    }\n",
       "\n",
       "    .dataframe tbody tr th {\n",
       "        vertical-align: top;\n",
       "    }\n",
       "\n",
       "    .dataframe thead th {\n",
       "        text-align: right;\n",
       "    }\n",
       "</style>\n",
       "<table border=\"1\" class=\"dataframe\">\n",
       "  <thead>\n",
       "    <tr style=\"text-align: right;\">\n",
       "      <th></th>\n",
       "      <th>timestamp</th>\n",
       "      <th>Asset_ID</th>\n",
       "      <th>Count</th>\n",
       "      <th>Open</th>\n",
       "      <th>High</th>\n",
       "      <th>Low</th>\n",
       "      <th>Close</th>\n",
       "      <th>Volume</th>\n",
       "      <th>VWAP</th>\n",
       "      <th>Target</th>\n",
       "      <th>Normal Time</th>\n",
       "    </tr>\n",
       "  </thead>\n",
       "  <tbody>\n",
       "    <tr>\n",
       "      <th>525565</th>\n",
       "      <td>1637798100</td>\n",
       "      <td>1</td>\n",
       "      <td>613.0</td>\n",
       "      <td>57124.38</td>\n",
       "      <td>57169.28</td>\n",
       "      <td>57124.38</td>\n",
       "      <td>57155.37</td>\n",
       "      <td>15.12661</td>\n",
       "      <td>133345.450000</td>\n",
       "      <td>0.005561</td>\n",
       "      <td>2021-11-24 23:55:00</td>\n",
       "    </tr>\n",
       "    <tr>\n",
       "      <th>525566</th>\n",
       "      <td>1637798160</td>\n",
       "      <td>1</td>\n",
       "      <td>704.0</td>\n",
       "      <td>57155.37</td>\n",
       "      <td>57196.49</td>\n",
       "      <td>57141.54</td>\n",
       "      <td>57190.88</td>\n",
       "      <td>13.97363</td>\n",
       "      <td>133401.656667</td>\n",
       "      <td>0.005966</td>\n",
       "      <td>2021-11-24 23:56:00</td>\n",
       "    </tr>\n",
       "    <tr>\n",
       "      <th>525567</th>\n",
       "      <td>1637798220</td>\n",
       "      <td>1</td>\n",
       "      <td>639.0</td>\n",
       "      <td>57190.87</td>\n",
       "      <td>57191.04</td>\n",
       "      <td>57150.93</td>\n",
       "      <td>57174.63</td>\n",
       "      <td>12.49147</td>\n",
       "      <td>133400.180000</td>\n",
       "      <td>0.005626</td>\n",
       "      <td>2021-11-24 23:57:00</td>\n",
       "    </tr>\n",
       "    <tr>\n",
       "      <th>525568</th>\n",
       "      <td>1637798280</td>\n",
       "      <td>1</td>\n",
       "      <td>659.0</td>\n",
       "      <td>57174.63</td>\n",
       "      <td>57178.42</td>\n",
       "      <td>57137.56</td>\n",
       "      <td>57158.17</td>\n",
       "      <td>27.41684</td>\n",
       "      <td>133368.703333</td>\n",
       "      <td>0.005403</td>\n",
       "      <td>2021-11-24 23:58:00</td>\n",
       "    </tr>\n",
       "    <tr>\n",
       "      <th>525569</th>\n",
       "      <td>1637798340</td>\n",
       "      <td>1</td>\n",
       "      <td>753.0</td>\n",
       "      <td>57158.17</td>\n",
       "      <td>57193.14</td>\n",
       "      <td>57130.99</td>\n",
       "      <td>57138.29</td>\n",
       "      <td>19.92652</td>\n",
       "      <td>133370.226667</td>\n",
       "      <td>0.004228</td>\n",
       "      <td>2021-11-24 23:59:00</td>\n",
       "    </tr>\n",
       "  </tbody>\n",
       "</table>\n",
       "</div>"
      ],
      "text/plain": [
       "         timestamp  Asset_ID  Count      Open      High       Low     Close  \\\n",
       "525565  1637798100         1  613.0  57124.38  57169.28  57124.38  57155.37   \n",
       "525566  1637798160         1  704.0  57155.37  57196.49  57141.54  57190.88   \n",
       "525567  1637798220         1  639.0  57190.87  57191.04  57150.93  57174.63   \n",
       "525568  1637798280         1  659.0  57174.63  57178.42  57137.56  57158.17   \n",
       "525569  1637798340         1  753.0  57158.17  57193.14  57130.99  57138.29   \n",
       "\n",
       "          Volume           VWAP    Target          Normal Time  \n",
       "525565  15.12661  133345.450000  0.005561  2021-11-24 23:55:00  \n",
       "525566  13.97363  133401.656667  0.005966  2021-11-24 23:56:00  \n",
       "525567  12.49147  133400.180000  0.005626  2021-11-24 23:57:00  \n",
       "525568  27.41684  133368.703333  0.005403  2021-11-24 23:58:00  \n",
       "525569  19.92652  133370.226667  0.004228  2021-11-24 23:59:00  "
      ]
     },
     "execution_count": 130,
     "metadata": {},
     "output_type": "execute_result"
    }
   ],
   "source": [
    "df.tail()"
   ]
  },
  {
   "cell_type": "code",
   "execution_count": null,
   "metadata": {},
   "outputs": [],
   "source": []
  }
 ],
 "metadata": {
  "interpreter": {
   "hash": "9ff9380510b13daf2a1fe3c8ee988100a55c27a77ea3db4d131b3a966d197cf2"
  },
  "kernelspec": {
   "display_name": "Python 3.8.10 64-bit (windows store)",
   "language": "python",
   "name": "python3"
  },
  "language_info": {
   "codemirror_mode": {
    "name": "ipython",
    "version": 3
   },
   "file_extension": ".py",
   "mimetype": "text/x-python",
   "name": "python",
   "nbconvert_exporter": "python",
   "pygments_lexer": "ipython3",
   "version": "3.8.10"
  },
  "orig_nbformat": 4
 },
 "nbformat": 4,
 "nbformat_minor": 2
}
